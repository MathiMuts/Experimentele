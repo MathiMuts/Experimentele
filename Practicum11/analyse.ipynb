{
 "cells": [
  {
   "cell_type": "code",
   "execution_count": null,
   "metadata": {},
   "outputs": [],
   "source": [
    "import fit_classes as fp\n",
    "import numpy as np\n",
    "from scipy.interpolate import CubicSpline\n",
    "from scipy.optimize import minimize\n",
    "import matplotlib.pyplot as plt\n"
   ]
  },
  {
   "cell_type": "markdown",
   "metadata": {},
   "source": [
    "# Deel 1"
   ]
  },
  {
   "cell_type": "code",
   "execution_count": 23,
   "metadata": {},
   "outputs": [],
   "source": [
    "V=21 # mL\n",
    "V_err=0.5 # mL\n",
    "m=8.14 # g\n",
    "m_err=0.01 #g\n",
    "v1=10 # mL\n",
    "v1_err=0.02 #mL\n",
    "perc=4.76 # %\n",
    "v_w=150 #mL\n",
    "v_w_err=1 #mL"
   ]
  },
  {
   "cell_type": "code",
   "execution_count": 24,
   "metadata": {},
   "outputs": [
    {
     "data": {
      "text/plain": [
       "0.8140000000000001"
      ]
     },
     "metadata": {},
     "output_type": "display_data"
    },
    {
     "data": {
      "text/plain": [
       "0.0019105978122043374"
      ]
     },
     "metadata": {},
     "output_type": "display_data"
    },
    {
     "data": {
      "text/plain": [
       "4.714285714285724"
      ]
     },
     "metadata": {},
     "output_type": "display_data"
    },
    {
     "data": {
      "text/plain": [
       "0.011065238294619738"
      ]
     },
     "metadata": {},
     "output_type": "display_data"
    },
    {
     "data": {
      "text/plain": [
       "20.009999999999998"
      ]
     },
     "metadata": {},
     "output_type": "display_data"
    },
    {
     "data": {
      "text/plain": [
       "0.478738001434887"
      ]
     },
     "metadata": {},
     "output_type": "display_data"
    },
    {
     "data": {
      "text/plain": [
       "0.1334"
      ]
     },
     "metadata": {},
     "output_type": "display_data"
    },
    {
     "data": {
      "text/plain": [
       "0.0033131766161318813"
      ]
     },
     "metadata": {},
     "output_type": "display_data"
    }
   ],
   "source": [
    "rho=m/v1\n",
    "rho_err=np.sqrt((v1_err/v1)**2+(m_err/m)**2)*rho\n",
    "eta=(rho-0.8041)/0.0021\n",
    "eta_err=eta*rho_err/rho\n",
    "\n",
    "display(rho)\n",
    "display(rho_err)\n",
    "display(eta)\n",
    "display(eta_err)\n",
    "# display(eta_err)\n",
    "\n",
    "v2=(100-eta)/100*V\n",
    "v2_err=v2*np.sqrt((eta_err/eta)**2+(V_err/V)**2)\n",
    "display(v2) \n",
    "display(v2_err)\n",
    "eta_wijn=v2/v_w\n",
    "eta_wijn_err=eta_wijn*np.sqrt((v_w_err/v_w)**2+(v2_err/v2)**2)\n",
    "display(eta_wijn)\n",
    "display(eta_wijn_err)"
   ]
  },
  {
   "cell_type": "markdown",
   "metadata": {},
   "source": [
    "# Deel 2"
   ]
  },
  {
   "cell_type": "code",
   "execution_count": 46,
   "metadata": {},
   "outputs": [],
   "source": [
    "v1=5.2 #mL\n",
    "v2=4.85 #mL\n",
    "v3=5.05 #mL\n",
    "v4=4.45 #mL\n",
    "c=0.0050 #mol/L\n",
    "v_vis_err=0.05 #mL\n",
    "v_bur_err=0.05*10**(-3) #L\n",
    "v_w=20*10**(-3) #L\n",
    "v_w_err=0.2*10**(-3) #L\n",
    "M=64.066 # g/mol"
   ]
  },
  {
   "cell_type": "code",
   "execution_count": null,
   "metadata": {},
   "outputs": [
    {
     "data": {
      "text/plain": [
       "2.5125000000000004e-05"
      ]
     },
     "metadata": {},
     "output_type": "display_data"
    },
    {
     "data": {
      "text/plain": [
       "3.5355339059327384e-07"
      ]
     },
     "metadata": {},
     "output_type": "display_data"
    },
    {
     "data": {
      "text/plain": [
       "0.0012562500000000002"
      ]
     },
     "metadata": {},
     "output_type": "display_data"
    },
    {
     "data": {
      "text/plain": [
       "2.168677952693761e-05"
      ]
     },
     "metadata": {},
     "output_type": "display_data"
    },
    {
     "data": {
      "text/plain": [
       "80.48291250000001"
      ]
     },
     "metadata": {},
     "output_type": "display_data"
    },
    {
     "data": {
      "text/plain": [
       "1.389385217172785"
      ]
     },
     "metadata": {},
     "output_type": "display_data"
    }
   ],
   "source": [
    "v=(v1+v2)/2*10**(-3)\n",
    "n=c*v\n",
    "n_err=n*np.sqrt(2)*v_bur_err/v\n",
    "c_w=n/v_w \n",
    "c_w_err=c_w*np.sqrt((n_err/n)**2+(v_w_err/v_w)**2)\n",
    "m_w=c_w*M*1000\n",
    "m_w_err=m_w*c_w_err/c_w\n",
    "display(n)\n",
    "display(n_err)\n",
    "\n",
    "display(c_w)\n",
    "display(c_w_err)\n",
    "\n",
    "display(m_w)\n",
    "display(m_w_err)"
   ]
  }
 ],
 "metadata": {
  "kernelspec": {
   "display_name": "base",
   "language": "python",
   "name": "python3"
  },
  "language_info": {
   "codemirror_mode": {
    "name": "ipython",
    "version": 3
   },
   "file_extension": ".py",
   "mimetype": "text/x-python",
   "name": "python",
   "nbconvert_exporter": "python",
   "pygments_lexer": "ipython3",
   "version": "3.11.4"
  }
 },
 "nbformat": 4,
 "nbformat_minor": 2
}
