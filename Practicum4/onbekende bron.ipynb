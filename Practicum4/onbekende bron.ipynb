{
 "cells": [
  {
   "cell_type": "code",
   "execution_count": 1,
   "id": "a83a6e8c",
   "metadata": {},
   "outputs": [],
   "source": [
    "import numpy as np\n",
    "from scipy.stats import sem"
   ]
  },
  {
   "cell_type": "code",
   "execution_count": 16,
   "id": "93746431",
   "metadata": {},
   "outputs": [],
   "source": [
    "b=9414.20276215\n",
    "c=1.59381277\n",
    "db=50\n",
    "dc=0.0002\n",
    "theta0 = 125.55 * np.pi/180\n",
    "a=np.pi/3\n",
    "delta_sys = 5/60 * np.pi/180\n",
    "sigma_delta_m = np.sqrt((delta_sys**2)/6)\n"
   ]
  },
  {
   "cell_type": "code",
   "execution_count": 17,
   "id": "962904fd",
   "metadata": {},
   "outputs": [],
   "source": [
    "file2=\"mystery_element.txt\"\n",
    "mystery_data=np.loadtxt(file2).T\n",
    "mystery_data=mystery_data*np.pi/180\n",
    "z=mystery_data-theta0\n"
   ]
  },
  {
   "cell_type": "code",
   "execution_count": 20,
   "id": "cd91b494",
   "metadata": {},
   "outputs": [
    {
     "data": {
      "text/plain": [
       "array([398.87799899, 401.55544956, 405.68003475, 420.4574753 ,\n",
       "       425.6369722 , 446.17953884, 454.4107914 , 464.72830902,\n",
       "       471.83902214, 488.37827709])"
      ]
     },
     "metadata": {},
     "output_type": "display_data"
    },
    {
     "data": {
      "text/plain": [
       "array([1.55507976, 1.57759779, 1.61291581, 1.74586798, 1.79490324,\n",
       "       2.00234342, 2.09145756, 2.20816964, 2.2919208 , 2.49746838])"
      ]
     },
     "metadata": {},
     "output_type": "display_data"
    }
   ],
   "source": [
    "n = np.sin((z+a)/2) / np.sin(a/2)\n",
    "dn =sigma_delta_m  * np.abs( np.cos((z+a)/2)/(2*np.sin(a/2)) )\n",
    "lam=np.sqrt(b/(n-c))\n",
    "dlam=np.sqrt(db**2/(4*b*(n-c))+b*dn**2/(4*(n-c)**3)+b*dc**2/(4*(n-c)**2))\n",
    "display(lam)\n",
    "display(dlam)"
   ]
  }
 ],
 "metadata": {
  "kernelspec": {
   "display_name": "Python 3 (ipykernel)",
   "language": "python",
   "name": "python3"
  },
  "language_info": {
   "codemirror_mode": {
    "name": "ipython",
    "version": 3
   },
   "file_extension": ".py",
   "mimetype": "text/x-python",
   "name": "python",
   "nbconvert_exporter": "python",
   "pygments_lexer": "ipython3",
   "version": "3.11.4"
  }
 },
 "nbformat": 4,
 "nbformat_minor": 5
}
