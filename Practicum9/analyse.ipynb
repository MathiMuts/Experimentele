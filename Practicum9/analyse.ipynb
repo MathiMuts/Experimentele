{
 "cells": [
  {
   "cell_type": "code",
   "execution_count": 11,
   "metadata": {},
   "outputs": [],
   "source": [
    "import fit_classes as fp\n",
    "import numpy as np\n",
    "import os\n",
    "from scipy.interpolate import interp1d\n",
    "from scipy import optimize\n",
    "import pandas as pd\n",
    "\n",
    "errors = []\n",
    "ERROR = 1 # Error in mV\n",
    "\n",
    "# class DataPlus(fp.Data):\n",
    "    \n",
    "#     def __init__(self, *args, **kwargs):\n",
    "#         super().__init__(*args, **kwargs)\n",
    "\n",
    "#         def sinus_model(params, x):\n",
    "#             A,f,phi,c = params\n",
    "#             return A*np.sin(2*np.pi*f*x + phi) + c\n",
    "        \n",
    "#         file = os.path.join(os.path.abspath(os.getcwd()), \"data\", \"params.txt\")\n",
    "#         name = str(self.name).split(\"\\\\\")[-1]\n",
    "#         var = None\n",
    "#         vals = []\n",
    "#         with open(file, \"r\") as file:\n",
    "#             for line in file:\n",
    "#                 vals.append((\n",
    "#                     line.strip().split(\": \")[0],\n",
    "#                      tuple(map(float, line.strip().split(\": \")[-1].strip(\"()\").split(\", \")))\n",
    "#                     ))\n",
    "\n",
    "#         check = False\n",
    "#         for var in vals:\n",
    "#             if var[0] == name:\n",
    "#                 A, f, phi, c = var[1]\n",
    "#                 check = True\n",
    "                \n",
    "#         if check == False:\n",
    "#             A, f, phi, c = 100, 0.006, -13.06097, 25\n",
    "#             A = (np.abs(max(self.y)) + np.abs(min(self.y)))/2\n",
    "#             c = (max(self.y) + min(self.y))/2\n",
    "\n",
    "#             f_interp = interp1d(self.x, self.y, kind='cubic')\n",
    "#             x_dense = np.linspace(self.x.min(), self.x.max(), 1000)\n",
    "#             y_dense = f_interp(x_dense)\n",
    "\n",
    "#             crossings = []\n",
    "#             for i in range(len(x_dense)-1):\n",
    "#                 if (y_dense[i] - c) * (y_dense[i+1] - c) < 0:  # Sign change\n",
    "#                     # Refine crossing with brentq\n",
    "#                     root = optimize.brentq(lambda x_val: f_interp(x_val) - c, x_dense[i], x_dense[i+1])\n",
    "#                     crossings.append(root)\n",
    "#                     # punt\n",
    "#                     # if self.x[list(self.x).index(punt) - 5] > self.x[list(self.x).index(punt) + 5]:\n",
    "#                     #     dalende_root.append(punt)\n",
    "\n",
    "            \n",
    "#             # Find descending zero-crossings\n",
    "#             stijgende_root = []\n",
    "#             for i in range(len(self.y) - 2):\n",
    "#                 if (self.y[i - 1] + self.y[i - 2])/2 < c and (self.y[i + 1] + self.y[i + 2])/2 >= c and self.x[i] > 10:\n",
    "#                     if stijgende_root != []:\n",
    "#                         if self.x[i] - stijgende_root[-1] > 10:\n",
    "#                             stijgende_root.append(self.x[i])\n",
    "#                     else:\n",
    "#                         stijgende_root.append(self.x[i])\n",
    "            \n",
    "#             crossing_count = len(crossings)\n",
    "#             # crossing_count = crossing_count if crossing_count < 30 else 30\n",
    "#             # f = 0.00101048 if abs(len(crossings) - 21) < abs(len(crossings) - 42) else 0.00239959\n",
    "#             f = 1/2\n",
    "#             # phi  = -(stijgende_root[0]*f)*2*np.pi\n",
    "#             phi = 0\n",
    "#             # A = 8\n",
    "\n",
    "#         # phi = np.arcsin(self.x[0] / A)\n",
    "\n",
    "#         SKIP_POINTS = 1\n",
    "\n",
    "#         self.x = self.x[::SKIP_POINTS]\n",
    "#         self.y = self.y[::SKIP_POINTS]\n",
    "#         self.dx = self.dx[::SKIP_POINTS]\n",
    "#         self.dy = self.dy[::SKIP_POINTS]\n",
    "\n",
    "#         self.fit = self.fit(sinus_model, initial_guess=(A, f, phi, c))\n",
    "#         self.fit.init = A, f, phi, c\n",
    "\n",
    "#         if check == False:\n",
    "#             file = os.path.join(os.path.abspath(os.getcwd()), \"data\", \"params.txt\")\n",
    "#             if self.fit.chi2_red < 10:\n",
    "#                 values = (float(A), float(f), float(phi), float(c))\n",
    "#                 with open(file, \"a\") as file:\n",
    "#                     file.write(f\"{name}: {values}\\n\")\n",
    "\n",
    "\n",
    "#         self.A, self.f, self.phi, self.c = self.fit.minima\n",
    "\n",
    "def data_from_file(file):\n",
    "    file_path = os.path.join(os.path.dirname(os.path.abspath(os.getcwd())), file)\n",
    "    name = str(file_path).split(\"/\")[-1]\n",
    "    df = pd.read_csv(file_path, delimiter=';', decimal=',')\n",
    "    df.columns = df.columns.str.strip()\n",
    "\n",
    "    SKIP1 = 1\n",
    "    SKIP2_ =17\n",
    "    SKIP2 = SKIP2_\n",
    "\n",
    "    file_p = os.path.join(os.path.abspath(os.getcwd()), \"data\", \"superposition.txt\")\n",
    "    vals = []\n",
    "    var = None\n",
    "    with open(file_p, \"r\") as file:\n",
    "        for line in file:\n",
    "            vals.append((line.strip().split(\": \")[0],tuple(map(int, line.strip().split(\": \")[-1].strip(\"()\").split(\", \")))))\n",
    "\n",
    "    check = False\n",
    "\n",
    "    for var in vals:\n",
    "        if var[0] == name:\n",
    "            SKIP1, SKIP2 = var[1]\n",
    "            check = True\n",
    "\n",
    "    if not check:\n",
    "        if True:\n",
    "            values = (SKIP1, SKIP2)\n",
    "            with open(file_p, \"a\") as file:\n",
    "                file.write(f\"{name}: {values}\\n\")\n",
    "\n",
    "    x1 = df[\"Latest: Time (s)\"].to_numpy()[::SKIP1]\n",
    "    x2 = df[\"Latest: Time (s)\"].to_numpy()[::SKIP2]\n",
    "    y1 = df[\"Latest: Potential 1 (V)\"].to_numpy()[::SKIP1]\n",
    "    y2 = df[\"Latest: Potential 2 (V)\"].to_numpy()[::SKIP2]\n",
    "    dy1 = ERROR*np.ones_like(y1)\n",
    "    dy2 = ERROR*np.ones_like(y2)\n",
    "\n",
    "    data1 = fp.Data(x1, y1, dy1, name=str(file_path).split('/')[-1][0:-4] + '_1')\n",
    "    data2 = fp.Data(x2, y2, dy2, name=str(file_path).split('/')[-1][0:-4]  + '_2')\n",
    "    if not check:\n",
    "        print(data2.name)\n",
    "        data2.show()\n",
    "    return data1, data2\n",
    "\n",
    "        \n",
    "def load_data_by_folder(root):\n",
    "    folder_data = {}\n",
    "    total_files = 0\n",
    "    total_files += len([f for f in os.listdir(root)])\n",
    "\n",
    "    current_file = 0\n",
    "    data_list_input = []\n",
    "    data_list = []\n",
    "    for file in os.listdir(root):\n",
    "        file_path = os.path.join(root, file)\n",
    "        if os.path.isfile(file_path) and file.lower().endswith(\".csv\"):\n",
    "            current_file += 1\n",
    "            # os.system(f'echo \"File: {current_file:>3}/{total_files}\"')\n",
    "            data1, data2 = data_from_file(file_path)\n",
    "            data_list_input.append(data1)\n",
    "            data_list.append(data2)\n",
    "        \n",
    "    if data_list:\n",
    "        folder_data = np.array(data_list)\n",
    "    return folder_data\n",
    "\n",
    "data_arrays = load_data_by_folder(os.path.join(os.path.abspath(os.getcwd()), \"data\"))\n"
   ]
  },
  {
   "cell_type": "code",
   "execution_count": 12,
   "metadata": {},
   "outputs": [
    {
     "data": {
      "image/png": "[encoded data removed]",
      "text/plain": [
       "<Figure size 600x360 with 1 Axes>"
      ]
     },
     "metadata": {},
     "output_type": "display_data"
    }
   ],
   "source": [
    "datadict = {}\n",
    "for dataset in data_arrays:\n",
    "    datadict[dataset.name[0:-2]] = dataset\n",
    "    # if dataset[1].name == '2-5_190Hz_2':\n",
    "    # print(dataset.name)\n",
    "    # dataset.show()\n",
    "         \n",
    "datadict[\"2-3_250Hz\"].show()"
   ]
  },
  {
   "cell_type": "markdown",
   "metadata": {},
   "source": [
    "# Opgave 1"
   ]
  },
  {
   "cell_type": "code",
   "execution_count": 32,
   "metadata": {},
   "outputs": [
    {
     "data": {
      "image/png": "[encoded data removed]",
      "text/plain": [
       "<Figure size 600x360 with 1 Axes>"
      ]
     },
     "metadata": {},
     "output_type": "display_data"
    },
    {
     "name": "stdout",
     "output_type": "stream",
     "text": [
      "----------------------------------------------------------------------------------------------------------------\n",
      "For parameter tau      :     $      0.10044 \\pm      0.00019 $\n",
      "For parameter a        :     $      1.16915 \\pm      0.00064 $\n",
      "----------------------------------------------------------------------------------------------------------------\n",
      "Minimal χ² value       :     χ²_min         103.95018507\n",
      "Reduced χ² value       :     χ²_red           1.11774393\n",
      "P-value                :     p-value          0.20558361\n",
      "----------------------------------------------------------------------------------------------------------------\n",
      "\n"
     ]
    }
   ],
   "source": [
    "ERROR = 0.35\n",
    "dataset = fp.Data(datadict[\"2-1\"].x[25:145], datadict[\"2-1\"].y[25:145], ERROR*datadict[\"2-1\"].dy[25:145])\n",
    "\n",
    "def model_opgave1(params, x):\n",
    "    tau,a = params\n",
    "    return (1-np.exp(-(x-0.160)/tau))*a\n",
    "\n",
    "dataset.fit(model_opgave1).show()\n",
    "print(dataset.fit(model_opgave1))"
   ]
  },
  {
   "cell_type": "markdown",
   "metadata": {},
   "source": [
    "# Opgave 2"
   ]
  },
  {
   "cell_type": "code",
   "execution_count": 21,
   "metadata": {},
   "outputs": [
    {
     "name": "stdout",
     "output_type": "stream",
     "text": [
      "opgave2\n"
     ]
    }
   ],
   "source": [
    "print(\"opgave2\")"
   ]
  },
  {
   "cell_type": "markdown",
   "metadata": {},
   "source": [
    "# Opgave 3"
   ]
  },
  {
   "cell_type": "code",
   "execution_count": 22,
   "metadata": {},
   "outputs": [
    {
     "name": "stdout",
     "output_type": "stream",
     "text": [
      "opgave3\n"
     ]
    }
   ],
   "source": [
    "print(\"opgave3\")"
   ]
  }
 ],
 "metadata": {
  "kernelspec": {
   "display_name": "Python 3",
   "language": "python",
   "name": "python3"
  },
  "language_info": {
   "codemirror_mode": {
    "name": "ipython",
    "version": 3
   },
   "file_extension": ".py",
   "mimetype": "text/x-python",
   "name": "python",
   "nbconvert_exporter": "python",
   "pygments_lexer": "ipython3",
   "version": "3.12.3"
  }
 },
 "nbformat": 4,
 "nbformat_minor": 2
}
