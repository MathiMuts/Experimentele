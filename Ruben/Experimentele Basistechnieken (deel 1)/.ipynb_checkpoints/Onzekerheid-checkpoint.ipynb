{
 "cells": [
  {
   "cell_type": "code",
   "execution_count": 2,
   "id": "entitled-hybrid",
   "metadata": {},
   "outputs": [],
   "source": [
    "import sympy as sp\n",
    "import numpy as np\n",
    "import matplotlib.pyplot as plt\n",
    "import scipy.optimize as opt\n",
    "import scipy.odr as odr\n",
    "%matplotlib notebook\n"
   ]
  },
  {
   "cell_type": "code",
   "execution_count": 9,
   "id": "double-helmet",
   "metadata": {},
   "outputs": [
    {
     "data": {
      "text/latex": [
       "$\\displaystyle \\frac{R_{0}}{R_{1}}$"
      ],
      "text/plain": [
       "R_0/R_1"
      ]
     },
     "metadata": {},
     "output_type": "display_data"
    },
    {
     "data": {
      "text/latex": [
       "$\\displaystyle \\sqrt{\\frac{R_{0}^{2} \\sigma_{R1}^{2}}{R_{1}^{4}} + \\frac{\\sigma_{R0}^{2}}{R_{1}^{2}}}$"
      ],
      "text/plain": [
       "sqrt(R_0**2*sigma_R1**2/R_1**4 + sigma_R0**2/R_1**2)"
      ]
     },
     "metadata": {},
     "output_type": "display_data"
    },
    {
     "data": {
      "text/latex": [
       "$\\displaystyle 4.54808175198574$"
      ],
      "text/plain": [
       "4.54808175198574"
      ]
     },
     "execution_count": 9,
     "metadata": {},
     "output_type": "execute_result"
    }
   ],
   "source": [
    "a,b,c,d,e,f,g,h = sp.symbols('R_0 R_1 R_2 R_10 e f g h')\n",
    "s_a,s_b,s_c,s_d,s_e,s_f,s_g,s_h=sp.symbols('sigma_R0 sigma_R1 sigma_R2 sigma_R10 s_e s_f s_g s_h')\n",
    "fouten = {a:s_a,b:s_b,c:s_c,d:s_d,e:s_e,f:s_f,g:s_g,h:s_h}\n",
    "\n",
    "\n",
    "var = [a,b,c,d,e,f,g,h]\n",
    "uitdr = a*c/b\n",
    "\n",
    "\n",
    "diff = {}\n",
    "gebruikt = []\n",
    "for i in var:\n",
    "    diff[i] = sp.diff(uitdr,i)\n",
    "    if diff[i] != 0:\n",
    "        gebruikt.append(i)\n",
    "\n",
    "foutsqr = 0\n",
    "for i in gebruikt:\n",
    "    foutsqr += (diff[i]**2)*fouten[i]**2\n",
    "    \n",
    "fout = sp.sqrt(foutsqr)\n",
    "\n",
    "display(uitdr)\n",
    "display(fout)\n",
    "\n",
    "waarden = {a:1.99,b:0.00259,c:500,d:10,e:470,s_a:0.015*2/sp.sqrt(12),s_b:0.000018*2/sp.sqrt(12),s_c:5*2/3.4641,s_d:0.1*2/3.4641,s_e:4.7*2/3.4641}\n",
    "\n",
    "waarde = fout.subs(waarden)\n",
    "waarde"
   ]
  },
  {
   "cell_type": "code",
   "execution_count": 73,
   "id": "controlling-optics",
   "metadata": {},
   "outputs": [
    {
     "name": "stdout",
     "output_type": "stream",
     "text": [
      "\\sqrt{\\frac{I_{b}^{2} R_{0}^{4} \\sigma_{R10}^{2} \\left(- I_{a} + I_{b}\\right)^{2}}{R_{10}^{4} \\left(I_{a} - I_{b} \\left(\\frac{R_{0}}{R_{10}} + 1\\right)\\right)^{4}} + \\sigma_{Ia}^{2} \\left(- \\frac{R_{0} \\left(- I_{a} + I_{b}\\right)}{\\left(I_{a} - I_{b} \\left(\\frac{R_{0}}{R_{10}} + 1\\right)\\right)^{2}} - \\frac{R_{0}}{I_{a} - I_{b} \\left(\\frac{R_{0}}{R_{10}} + 1\\right)}\\right)^{2} + \\sigma_{Ib}^{2} \\left(\\frac{R_{0} \\left(- I_{a} + I_{b}\\right) \\left(\\frac{R_{0}}{R_{10}} + 1\\right)}{\\left(I_{a} - I_{b} \\left(\\frac{R_{0}}{R_{10}} + 1\\right)\\right)^{2}} + \\frac{R_{0}}{I_{a} - I_{b} \\left(\\frac{R_{0}}{R_{10}} + 1\\right)}\\right)^{2} + \\sigma_{R0}^{2} \\left(\\frac{I_{b} R_{0} \\left(- I_{a} + I_{b}\\right)}{R_{10} \\left(I_{a} - I_{b} \\left(\\frac{R_{0}}{R_{10}} + 1\\right)\\right)^{2}} + \\frac{- I_{a} + I_{b}}{I_{a} - I_{b} \\left(\\frac{R_{0}}{R_{10}} + 1\\right)}\\right)^{2}}\n"
     ]
    }
   ],
   "source": [
    "sp.print_latex(fout)"
   ]
  },
  {
   "cell_type": "code",
   "execution_count": null,
   "id": "together-geography",
   "metadata": {},
   "outputs": [],
   "source": []
  }
 ],
 "metadata": {
  "kernelspec": {
   "display_name": "Python 3 (ipykernel)",
   "language": "python",
   "name": "python3"
  },
  "language_info": {
   "codemirror_mode": {
    "name": "ipython",
    "version": 3
   },
   "file_extension": ".py",
   "mimetype": "text/x-python",
   "name": "python",
   "nbconvert_exporter": "python",
   "pygments_lexer": "ipython3",
   "version": "3.7.9"
  }
 },
 "nbformat": 4,
 "nbformat_minor": 5
}
