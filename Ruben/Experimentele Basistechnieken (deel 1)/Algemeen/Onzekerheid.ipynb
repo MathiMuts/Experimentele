{
 "cells": [
  {
   "cell_type": "code",
   "execution_count": 2,
   "id": "entitled-hybrid",
   "metadata": {},
   "outputs": [],
   "source": [
    "import sympy as sp\n",
    "import numpy as np\n",
    "import matplotlib.pyplot as plt\n",
    "import scipy.optimize as opt\n",
    "import scipy.odr as odr\n",
    "%matplotlib notebook\n"
   ]
  },
  {
   "cell_type": "code",
   "execution_count": 10,
   "id": "double-helmet",
   "metadata": {},
   "outputs": [
    {
     "data": {
      "text/latex": [
       "$\\displaystyle 299792458000 \\sqrt{\\frac{\\sigma_{R0}^{2}}{R_{1}^{4}}}$"
      ],
      "text/plain": [
       "299792458000*sqrt(sigma_R0**2/R_1**4)"
      ]
     },
     "metadata": {},
     "output_type": "display_data"
    },
    {
     "data": {
      "text/latex": [
       "$\\displaystyle 1638926970.52634$"
      ],
      "text/plain": [
       "1638926970.52634"
      ]
     },
     "metadata": {},
     "output_type": "display_data"
    }
   ],
   "source": [
    "a,b,c,d,e,f,g,h = sp.symbols('R_1 R_3 R_4 R_10 e f g h')\n",
    "s_a,s_b,s_c,s_d,s_e,s_f,s_g,s_h=sp.symbols('sigma_R0 sigma_R1 sigma_R2 sigma_R10 s_e s_f s_g s_h')\n",
    "fouten = {a:s_a,b:s_b,c:s_c,d:s_d,e:s_e,f:s_f,g:s_g,h:s_h}\n",
    "\n",
    "\n",
    "var = [a,b,c,d,e,f,g,h]\n",
    "uitdr = 299792458000/(a)\n",
    "\n",
    "\n",
    "diff = {}\n",
    "gebruikt = []\n",
    "for i in var:\n",
    "    diff[i] = sp.diff(uitdr,i)\n",
    "    if diff[i] != 0:\n",
    "        gebruikt.append(i)\n",
    "\n",
    "foutsqr = 0\n",
    "for i in gebruikt:\n",
    "    foutsqr += (diff[i]**2)*fouten[i]**2\n",
    "    \n",
    "fout = sp.sqrt(foutsqr)\n",
    "\n",
    "\n",
    "display(fout)\n",
    "\n",
    "waarden = {a:2.18,b:46/180*sp.pi,c:165.2,d:10,e:470,s_a:0.09/sp.sqrt(12),s_b:0.5/sp.sqrt(12),s_c:1.8,s_d:0.1*2/3.4641,s_e:4.7*2/3.4641}\n",
    "waarde = fout.subs(waarden)\n",
    "display(round(waarde,6))"
   ]
  },
  {
   "cell_type": "code",
   "execution_count": 6,
   "id": "controlling-optics",
   "metadata": {},
   "outputs": [
    {
     "name": "stdout",
     "output_type": "stream",
     "text": [
      "\\sqrt{\\frac{R_{1}^{2} \\sigma_{R2}^{2}}{R_{3}^{2}} + \\frac{R_{1}^{2} R_{4}^{2} \\sigma_{R1}^{2}}{R_{3}^{4}} + \\frac{R_{4}^{2} \\sigma_{R0}^{2}}{R_{3}^{2}}}\n"
     ]
    }
   ],
   "source": [
    "sp.print_latex(fout)"
   ]
  },
  {
   "cell_type": "code",
   "execution_count": null,
   "id": "together-geography",
   "metadata": {},
   "outputs": [],
   "source": []
  }
 ],
 "metadata": {
  "kernelspec": {
   "display_name": "Python 3 (ipykernel)",
   "language": "python",
   "name": "python3"
  },
  "language_info": {
   "codemirror_mode": {
    "name": "ipython",
    "version": 3
   },
   "file_extension": ".py",
   "mimetype": "text/x-python",
   "name": "python",
   "nbconvert_exporter": "python",
   "pygments_lexer": "ipython3",
   "version": "3.7.9"
  }
 },
 "nbformat": 4,
 "nbformat_minor": 5
}
